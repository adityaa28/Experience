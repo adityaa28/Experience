{
 "cells": [
  {
   "cell_type": "code",
   "execution_count": 65,
   "metadata": {},
   "outputs": [],
   "source": [
    "from selenium import webdriver      \n",
    "from selenium.common.exceptions import NoSuchElementException\n",
    "from selenium.webdriver.common.by import By\n",
    "from selenium.webdriver.support.ui import WebDriverWait\n",
    "from selenium.webdriver.support import expected_conditions as EC\n",
    "import pandas as pd\n",
    "from bs4 import BeautifulSoup as bs\n",
    "import time\n"
   ]
  },
  {
   "cell_type": "code",
   "execution_count": 43,
   "metadata": {
    "scrolled": false
   },
   "outputs": [
    {
     "name": "stdout",
     "output_type": "stream",
     "text": [
      "Updated 2 days ago\n",
      "3 days ago\n",
      "3 days ago\n",
      "3 days ago\n",
      "3 days ago\n",
      "3 days ago\n",
      "3 days ago\n",
      "3 days ago\n",
      "3 days ago\n",
      "3 days ago\n",
      "3 days ago\n",
      "3 days ago\n",
      "4 days ago\n",
      "4 days ago\n",
      "4 days ago\n",
      "4 days ago\n",
      "4 days ago\n",
      "4 days ago\n",
      "4 days ago\n",
      "4 days ago\n"
     ]
    },
    {
     "data": {
      "text/plain": [
       "'\\nwhile (True | i!=2000):\\n    try:\\n        loadMoreButton=WebDriverWait(driver, 10).until(EC.presence_of_element_located((By.XPATH, \\'//*[@id=\"bvTrackingContainer\"]/div[4]/a\\')))\\n        #loadMoreButton=WebDriverWait(driver, 10).until(EC.presence_of_element_located((by=By.XPATH, value=LOAD_MORE_BUTTON_XPATH)))\\n        #loadMoreButton = driver.find_element(by=By.XPATH, value=LOAD_MORE_BUTTON_XPATH)\\n        time.sleep(0.5)\\n        loadMoreButton.click()\\n        i+=1\\n        time.sleep(4)\\n    except Exception as e:\\n        print (e)\\n        break\\n\\ntitle = driver.find_elements(by=By.CLASS_NAME, value=title_xpath)\\ncontent = driver.find_elements(by=By.CLASS_NAME, value=content_xpath)\\ntime_tag=driver.find_elements(by=By.CLASS_NAME, value=time_xpath)\\nprint(len(title))\\ntitle_list=[]\\ncontent_list=[]\\ntime_tag_list=[]\\nfor p in range(len(title)):\\n        title_list.append(title[p].text)\\n        content_list.append(content[p].text)\\n        time_tag_list.append(time_tag[p].text)\\ntime.sleep(10)\\ndriver.quit()\\ntemp_df = pd.DataFrame(list(zip(title_list[1:],content_list[1:],time_tag_list[1:])), columns=[\\'Title\\',\\'Content\\',\\'Time and tag\\'])\\ndf = df.append(temp_df)\\ndf.to_csv(\\'Downloads/file.csv\\')\\n'"
      ]
     },
     "execution_count": 43,
     "metadata": {},
     "output_type": "execute_result"
    }
   ],
   "source": [
    "'''\n",
    "#browser = webdriver.Firefox()#Chrome('./chromedriver.exe')\n",
    "df = pd.DataFrame(columns=['Title','Content','Time and tag']) # creates master dataframe \n",
    "page_url1='https://www.trustpilot.com/review/lendingclub.com?page=2'\n",
    "PATIENCE_TIME = 60\n",
    "#LOAD_MORE_BUTTON_XPATH = '//*[@id=\"bvTrackingContainer\"]/div[4]/a'\n",
    "#title_xpath=\"reviews__item-title\"\n",
    "#content_xpath=\"reviews__quote\"\n",
    "time_xpath=\"styles_datesWrapper__RCEKH\"\n",
    "driver = webdriver.Safari()\n",
    "driver.get(page_url1)\n",
    "tme=driver.find_elements(by=By.CLASS_NAME, value=time_xpath)\n",
    "for i in range(len(tme)):\n",
    "    print(tme[i].text)\n",
    "i=0\n",
    "\n",
    "while (True | i!=2000):\n",
    "    try:\n",
    "        loadMoreButton=WebDriverWait(driver, 10).until(EC.presence_of_element_located((By.XPATH, '//*[@id=\"bvTrackingContainer\"]/div[4]/a')))\n",
    "        #loadMoreButton=WebDriverWait(driver, 10).until(EC.presence_of_element_located((by=By.XPATH, value=LOAD_MORE_BUTTON_XPATH)))\n",
    "        #loadMoreButton = driver.find_element(by=By.XPATH, value=LOAD_MORE_BUTTON_XPATH)\n",
    "        time.sleep(0.5)\n",
    "        loadMoreButton.click()\n",
    "        i+=1\n",
    "        time.sleep(4)\n",
    "    except Exception as e:\n",
    "        print (e)\n",
    "        break\n",
    "\n",
    "title = driver.find_elements(by=By.CLASS_NAME, value=title_xpath)\n",
    "content = driver.find_elements(by=By.CLASS_NAME, value=content_xpath)\n",
    "time_tag=driver.find_elements(by=By.CLASS_NAME, value=time_xpath)\n",
    "print(len(title))\n",
    "title_list=[]\n",
    "content_list=[]\n",
    "time_tag_list=[]\n",
    "for p in range(len(title)):\n",
    "        title_list.append(title[p].text)\n",
    "        content_list.append(content[p].text)\n",
    "        time_tag_list.append(time_tag[p].text)\n",
    "time.sleep(10)\n",
    "driver.quit()\n",
    "temp_df = pd.DataFrame(list(zip(title_list[1:],content_list[1:],time_tag_list[1:])), columns=['Title','Content','Time and tag'])\n",
    "df = df.append(temp_df)\n",
    "df.to_csv('Downloads/file.csv')\n",
    "'''"
   ]
  },
  {
   "cell_type": "code",
   "execution_count": 66,
   "metadata": {},
   "outputs": [],
   "source": [
    "df = pd.DataFrame(columns=['Title','Content','Date'])\n",
    "data=[]\n",
    "for pages in range(1,172):\n",
    "    page_url1=\"https://www.trustpilot.com/review/lendingclub.com?page=\"+str(pages)\n",
    "    PATIENCE_TIME = 60\n",
    "    driver = webdriver.Safari()\n",
    "    driver.get(page_url1)\n",
    "    all_items = driver.find_elements(by=By.CSS_SELECTOR, value='.paper_paper__1PY90.paper_square__lJX8a.card_card__lQWDv.card_noPadding__D8PcU.styles_cardWrapper__LcCPA.styles_show__HUXRb.styles_reviewCard__9HxJJ')\n",
    "\n",
    "    for item in all_items:\n",
    "        try:\n",
    "            title=item.find_element(by=By.CSS_SELECTOR, value=\".typography_typography__QgicV.typography_h4__E971J.typography_color-black__5LYEn.typography_weight-regular__TWEnf.typography_fontstyle-normal__kHyN3.styles_reviewTitle__04VGJ\").text\n",
    "        except Exception as ex:\n",
    "            #print('[Exception] name:', ex)\n",
    "            title = ''\n",
    "\n",
    "        try: \n",
    "\n",
    "            content = item.find_element(by=By.CSS_SELECTOR, value=\".typography_typography__QgicV.typography_body__9UBeQ.typography_color-black__5LYEn.typography_weight-regular__TWEnf.typography_fontstyle-normal__kHyN3\").text\n",
    "        except Exception as ex:\n",
    "            #print('[Exception] price:', ex)\n",
    "            content = ''\n",
    "\n",
    "        try: \n",
    "\n",
    "            date = item.find_element(by=By.CSS_SELECTOR, value=\".typography_typography__QgicV.typography_bodysmall__irytL.typography_color-gray-6__TogX2.typography_weight-regular__TWEnf.typography_fontstyle-normal__kHyN3.styles_datesWrapper__RCEKH\").text\n",
    "        except Exception as ex:\n",
    "            #print('[Exception] other:', ex)\n",
    "            date = 'NAN'\n",
    "        data.append([title,content,date])\n",
    "    time.sleep(1.5)\n",
    "    driver.close()\n",
    "\n",
    "df=pd.DataFrame(data)\n",
    "df.to_csv('Downloads/tpilot.csv')"
   ]
  },
  {
   "cell_type": "code",
   "execution_count": 48,
   "metadata": {},
   "outputs": [
    {
     "name": "stdout",
     "output_type": "stream",
     "text": [
      "\n",
      "\n",
      "\n",
      "\n",
      "\n",
      "\n",
      "\n",
      "\n",
      "\n",
      "\n",
      "\n",
      "\n",
      "\n",
      "\n",
      "\n",
      "\n",
      "\n",
      "\n",
      "\n",
      "\n",
      "\n"
     ]
    }
   ],
   "source": [
    "'''\n",
    "rating=driver.find_elements(by=By.CSS_SELECTOR, value=\".star-rating_starRating__4rrcf.star-rating_medium__iN6Ty\")\n",
    "for i in range(len(rating)):\n",
    "    print(rating[i].text)\n",
    "'''"
   ]
  }
 ],
 "metadata": {
  "kernelspec": {
   "display_name": "Python 3",
   "language": "python",
   "name": "python3"
  },
  "language_info": {
   "codemirror_mode": {
    "name": "ipython",
    "version": 3
   },
   "file_extension": ".py",
   "mimetype": "text/x-python",
   "name": "python",
   "nbconvert_exporter": "python",
   "pygments_lexer": "ipython3",
   "version": "3.8.5"
  }
 },
 "nbformat": 4,
 "nbformat_minor": 4
}
