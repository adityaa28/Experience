{
 "cells": [
  {
   "cell_type": "code",
   "execution_count": 33,
   "metadata": {},
   "outputs": [],
   "source": [
    "import pandas\n",
    "from selenium import webdriver\n",
    "from selenium.webdriver.support.ui import WebDriverWait\n",
    "import time\n",
    "from bs4 import BeautifulSoup as bs\n",
    "#https://www.lendingclub.com/company/lendingclub-reviews"
   ]
  },
  {
   "cell_type": "code",
   "execution_count": 34,
   "metadata": {},
   "outputs": [],
   "source": [
    "driver = webdriver.Safari()\n",
    "#driver.get(\"https://www.trustpilot.com/review/lendingclub.com?page=2\")\n",
    "page_url1='https://www.lendingclub.com/company/lendingclub-reviews'\n",
    "#for page_number in range(1,170):\n",
    " #   page_url2=f'https://www.trustpilot.com/review/lendingclub.com?page={page_number}'"
   ]
  },
  {
   "cell_type": "code",
   "execution_count": 38,
   "metadata": {},
   "outputs": [],
   "source": [
    "driver.get(page_url1)\n",
    "#h1 = driver.find_element_by_class_name('reviews__item-title text-static--lg bold')"
   ]
  },
  {
   "cell_type": "code",
   "execution_count": 20,
   "metadata": {},
   "outputs": [],
   "source": [
    "#Scroll to the end of the page\n",
    "driver.execute_script(\"window.scrollTo(0, document.body.scrollHeight);\")\n",
    "time.sleep(5)#sleep_between_interactions"
   ]
  },
  {
   "cell_type": "code",
   "execution_count": 1,
   "metadata": {},
   "outputs": [],
   "source": [
    "#h1=driver.find_element(by=class_name, value='reviews__item-title text-static--lg bold')"
   ]
  },
  {
   "cell_type": "code",
   "execution_count": 93,
   "metadata": {},
   "outputs": [],
   "source": [
    "from selenium import webdriver      \n",
    "from selenium.common.exceptions import NoSuchElementException\n",
    "from selenium.webdriver.common.by import By\n",
    "from selenium.webdriver.support.ui import WebDriverWait\n",
    "from selenium.webdriver.support import expected_conditions as EC\n",
    "import pandas as pd\n",
    "import time\n"
   ]
  },
  {
   "cell_type": "code",
   "execution_count": 112,
   "metadata": {
    "scrolled": false
   },
   "outputs": [
    {
     "name": "stdout",
     "output_type": "stream",
     "text": [
      "Message: \n",
      "\n",
      "6580\n"
     ]
    }
   ],
   "source": [
    "#browser = webdriver.Firefox()#Chrome('./chromedriver.exe')\n",
    "df = pd.DataFrame(columns=['Title','Content','Time and tag']) # creates master dataframe \n",
    "page_url1='https://www.lendingclub.com/company/lendingclub-reviews'\n",
    "PATIENCE_TIME = 60\n",
    "LOAD_MORE_BUTTON_XPATH = '//*[@id=\"bvTrackingContainer\"]/div[4]/a'\n",
    "title_xpath=\"reviews__item-title\"\n",
    "content_xpath=\"reviews__quote\"\n",
    "time_xpath=\"text-static--sm\"\n",
    "driver = webdriver.Safari()\n",
    "driver.get(page_url1)\n",
    "#print(driver.find_elements(by=By.CLASS_NAME, value=title_xpath))\n",
    "i=0\n",
    "while (True | i!=2000):\n",
    "    try:\n",
    "        loadMoreButton=WebDriverWait(driver, 10).until(EC.presence_of_element_located((By.XPATH, '//*[@id=\"bvTrackingContainer\"]/div[4]/a')))\n",
    "        #loadMoreButton=WebDriverWait(driver, 10).until(EC.presence_of_element_located((by=By.XPATH, value=LOAD_MORE_BUTTON_XPATH)))\n",
    "        #loadMoreButton = driver.find_element(by=By.XPATH, value=LOAD_MORE_BUTTON_XPATH)\n",
    "        time.sleep(0.5)\n",
    "        loadMoreButton.click()\n",
    "        i+=1\n",
    "        time.sleep(4)\n",
    "    except Exception as e:\n",
    "        print (e)\n",
    "        break\n",
    "\n",
    "title = driver.find_elements(by=By.CLASS_NAME, value=title_xpath)\n",
    "content = driver.find_elements(by=By.CLASS_NAME, value=content_xpath)\n",
    "time_tag=driver.find_elements(by=By.CLASS_NAME, value=time_xpath)\n",
    "print(len(title))\n",
    "title_list=[]\n",
    "content_list=[]\n",
    "time_tag_list=[]\n",
    "for p in range(len(title)):\n",
    "        title_list.append(title[p].text)\n",
    "        content_list.append(content[p].text)\n",
    "        time_tag_list.append(time_tag[p].text)\n",
    "time.sleep(10)\n",
    "driver.quit()\n",
    "temp_df = pd.DataFrame(list(zip(title_list[1:],content_list[1:],time_tag_list[1:])), columns=['Title','Content','Time and tag'])\n",
    "df = df.append(temp_df)\n",
    "df.to_csv('Downloads/file.csv')\n"
   ]
  },
  {
   "cell_type": "code",
   "execution_count": 99,
   "metadata": {},
   "outputs": [],
   "source": []
  },
  {
   "cell_type": "code",
   "execution_count": 2,
   "metadata": {},
   "outputs": [],
   "source": [
    "#driver.find_elements(by=By.CLASS_NAME, value=\"reviews__item-title\")"
   ]
  }
 ],
 "metadata": {
  "kernelspec": {
   "display_name": "Python 3",
   "language": "python",
   "name": "python3"
  },
  "language_info": {
   "codemirror_mode": {
    "name": "ipython",
    "version": 3
   },
   "file_extension": ".py",
   "mimetype": "text/x-python",
   "name": "python",
   "nbconvert_exporter": "python",
   "pygments_lexer": "ipython3",
   "version": "3.8.5"
  }
 },
 "nbformat": 4,
 "nbformat_minor": 4
}
